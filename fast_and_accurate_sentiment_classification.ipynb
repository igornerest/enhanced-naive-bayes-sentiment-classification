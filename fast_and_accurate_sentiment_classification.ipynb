{
 "cells": [
  {
   "cell_type": "code",
   "execution_count": 21,
   "metadata": {},
   "outputs": [],
   "source": [
    "import os\n",
    "import re\n",
    "import numpy"
   ]
  },
  {
   "cell_type": "code",
   "execution_count": 20,
   "metadata": {},
   "outputs": [
    {
     "name": "stdout",
     "output_type": "stream",
     "text": [
      "Textos com avaliação positiva\n",
      "Total: 12500\n",
      "6063_10.txt\n",
      "3364_10.txt\n",
      "4146_10.txt\n",
      "5091_8.txt\n",
      "413_10.txt\n",
      "\n",
      "Textos com avaliação negativa:\n",
      "Total: 12500\n",
      "10863_1.txt\n",
      "565_4.txt\n",
      "11851_1.txt\n",
      "1597_3.txt\n",
      "8659_1.txt\n"
     ]
    }
   ],
   "source": [
    "dirPos = \"./IMDB_dataset/train/pos\"\n",
    "dirNeg = \"./IMDB_dataset/train/neg\"\n",
    "\n",
    "print(\"Textos com avaliação positiva\")\n",
    "print(\"Total: {}\".format(len(os.listdir(dirPos))))\n",
    "for fileName in os.listdir(dirPos)[0:5]:\n",
    "    print(fileName)\n",
    "\n",
    "print(\"\\nTextos com avaliação negativa:\")\n",
    "print(\"Total: {}\".format(len(os.listdir(dirNeg))))\n",
    "for fileName in os.listdir(dirNeg)[0:5]:\n",
    "    print(fileName)"
   ]
  },
  {
   "cell_type": "code",
   "execution_count": 24,
   "metadata": {},
   "outputs": [
    {
     "name": "stdout",
     "output_type": "stream",
     "text": [
      "Resultado da extração:\n",
      "['wizards', 'of', 'the', 'lost', 'kingdom', 'is', 'a', 'movie', 'about', 'a', 'young', 'prince', 'simon', 'who', 'is', 'banished', 'from', 'his', 'kingdom', 'due', 'to', 'his', 'father', 'the', 'king', 'being', 'killed', 'by', 'the', 'cliche', 'evil', 'adviser', 'this', \"movie's\", 'about', \"simon's\", 'adventures', 'the', 'special', 'effects', 'plot', 'acting', 'and', 'generally', 'everything', 'about', 'this', 'movie', 'is', 'bad', 'however', \"it's\", 'so', 'bad', 'that', \"it's\", 'funny', 'you', 'will', 'keep', 'watching', 'this', 'movie', 'simply', 'because', \"it's\", 'so', 'bad', \"it's\", 'funny', 'and', 'like', 'the', 'other', 'reviewer', 'of', 'the', 'movie', 'said', \"it's\", 'so', 'bad', \"it's\", 'good']\n"
     ]
    }
   ],
   "source": [
    "regex = r\"[-'a-zA-ZÀ-ÖØ-öø-ÿ]+\"\n",
    "\n",
    "Document = dict([])\n",
    "Vocabulary = set([])\n",
    "\n",
    "def updateDocument(dir):\n",
    "    for fileName in os.listdir(dirPos):\n",
    "        document = open(dirPos+\"/\"+fileName, 'r')\n",
    "        content  = document.read().lower()\n",
    "        words    = re.findall(regex, content)\n",
    "        Document[fileName] = words\n",
    "        Vocabulary.update(words)\n",
    "\n",
    "updateDocument(dirPos)\n",
    "updateDocument(dirNeg)\n",
    "    \n",
    "print(\"Resultado da extração:\\n{}\".format(Document[\"6063_10.txt\"]))\n",
    "    "
   ]
  },
  {
   "cell_type": "code",
   "execution_count": 25,
   "metadata": {},
   "outputs": [
    {
     "name": "stdout",
     "output_type": "stream",
     "text": [
      "6063_10.txt\n",
      "3364_10.txt\n",
      "4146_10.txt\n",
      "5091_8.txt\n",
      "413_10.txt\n",
      "5740_10.txt\n",
      "2392_8.txt\n",
      "5023_10.txt\n",
      "9433_10.txt\n",
      "4823_7.txt\n"
     ]
    }
   ],
   "source": [
    "D = len(Document)\n",
    "V = len(Vocabulary)\n",
    "\n",
    "freq       = numpy.zeros((V, D))\n",
    "documents  = list(Document.keys())\n",
    "vocabulary = list(Vocabulary)\n",
    "\n",
    "for i in range(0, 10):\n",
    "    print(documents[i])\n",
    "    "
   ]
  },
  {
   "cell_type": "code",
   "execution_count": null,
   "metadata": {},
   "outputs": [],
   "source": [
    "for j in range(0, D):\n",
    "    d = documents[j]\n",
    "    for i in range (0, V):\n",
    "        w = vocabulary[i]\n",
    "        freq[i,j] = Document[d].count(w)"
   ]
  },
  {
   "cell_type": "code",
   "execution_count": null,
   "metadata": {},
   "outputs": [],
   "source": []
  }
 ],
 "metadata": {
  "kernelspec": {
   "display_name": "Python 3",
   "language": "python",
   "name": "python3"
  },
  "language_info": {
   "codemirror_mode": {
    "name": "ipython",
    "version": 3
   },
   "file_extension": ".py",
   "mimetype": "text/x-python",
   "name": "python",
   "nbconvert_exporter": "python",
   "pygments_lexer": "ipython3",
   "version": "3.7.3"
  }
 },
 "nbformat": 4,
 "nbformat_minor": 2
}
